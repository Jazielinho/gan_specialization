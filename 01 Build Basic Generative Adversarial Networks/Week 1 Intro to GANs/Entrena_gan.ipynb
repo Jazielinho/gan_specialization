{
 "cells": [
  {
   "cell_type": "code",
   "execution_count": 1,
   "metadata": {},
   "outputs": [],
   "source": [
    "import tensorflow as tf\n",
    "import matplotlib.pyplot as plt\n",
    "import numpy as np\n",
    "import tqdm"
   ]
  },
  {
   "cell_type": "code",
   "execution_count": 2,
   "metadata": {},
   "outputs": [],
   "source": [
    "%matplotlib inline"
   ]
  },
  {
   "cell_type": "code",
   "execution_count": null,
   "metadata": {},
   "outputs": [],
   "source": []
  },
  {
   "cell_type": "code",
   "execution_count": 31,
   "metadata": {},
   "outputs": [],
   "source": [
    "def mostrar_imagenes(image_array, num_images=25, size=(28, 28)):\n",
    "    '''\n",
    "    Function for visualizing images: Given a tensor of images, number of images, and\n",
    "    size per image, plots and prints the images in a uniform grid.\n",
    "    '''\n",
    "    image_plot = image_array.reshape(-1, *size)\n",
    "#     plt.figure(figsize=(15, 4.5))\n",
    "    for i in range(num_images):\n",
    "        plt.subplot(5, int(num_images) / 5, i + 1)\n",
    "        plt.imshow(image_plot[i].astype(np.uint8), cmap=plt.cm.binary)\n",
    "        plt.axis('off')\n",
    "    plt.show()"
   ]
  },
  {
   "cell_type": "code",
   "execution_count": null,
   "metadata": {},
   "outputs": [],
   "source": []
  },
  {
   "cell_type": "code",
   "execution_count": 3,
   "metadata": {},
   "outputs": [],
   "source": [
    "def obtener_bloque_generador(dim_entrada: int, dim_salida: int) -> tf.keras.Model:\n",
    "    ''' Genera una capa lineal con normalización por bloques '''\n",
    "    entrada = tf.keras.Input(shape=dim_entrada)\n",
    "    capa_lineal = tf.keras.layers.Dense(units=dim_salida)(entrada)\n",
    "    normalizacion = tf.keras.layers.BatchNormalization()(capa_lineal)\n",
    "    salida_relu = tf.keras.activations.relu(normalizacion)\n",
    "    return tf.keras.Model(inputs=entrada, outputs=salida_relu)\n",
    "\n",
    "def obtener_generador(dim_z: int = 10, dim_imagen: int = 784, dim_oculta: int = 128) -> tf.keras.Model:\n",
    "    ''' Generador de imágenes '''\n",
    "    entrada = tf.keras.Input(shape=dim_z)\n",
    "    salida_1 = obtener_bloque_generador(dim_entrada=dim_z, dim_salida=dim_oculta)(entrada)\n",
    "    salida_2 = obtener_bloque_generador(dim_entrada=dim_oculta, dim_salida=dim_oculta*2)(salida_1)\n",
    "    salida_3 = obtener_bloque_generador(dim_entrada=dim_oculta*2, dim_salida=dim_oculta*4)(salida_2)\n",
    "    salida_4 = obtener_bloque_generador(dim_entrada=dim_oculta*4, dim_salida=dim_oculta*8)(salida_3)\n",
    "    salida_lineal = tf.keras.layers.Dense(units=dim_imagen)(salida_4)\n",
    "    salida_sigmoide = tf.keras.activations.sigmoid(salida_lineal)\n",
    "    return tf.keras.Model(inputs=entrada, outputs=salida_sigmoide)"
   ]
  },
  {
   "cell_type": "code",
   "execution_count": 4,
   "metadata": {},
   "outputs": [
    {
     "name": "stdout",
     "output_type": "stream",
     "text": [
      "Model: \"model_4\"\n",
      "_________________________________________________________________\n",
      "Layer (type)                 Output Shape              Param #   \n",
      "=================================================================\n",
      "input_1 (InputLayer)         [(None, 10)]              0         \n",
      "_________________________________________________________________\n",
      "model (Functional)           (None, 128)               1920      \n",
      "_________________________________________________________________\n",
      "model_1 (Functional)         (None, 256)               34048     \n",
      "_________________________________________________________________\n",
      "model_2 (Functional)         (None, 512)               133632    \n",
      "_________________________________________________________________\n",
      "model_3 (Functional)         (None, 1024)              529408    \n",
      "_________________________________________________________________\n",
      "dense_4 (Dense)              (None, 784)               803600    \n",
      "_________________________________________________________________\n",
      "tf.math.sigmoid (TFOpLambda) (None, 784)               0         \n",
      "=================================================================\n",
      "Total params: 1,502,608\n",
      "Trainable params: 1,498,768\n",
      "Non-trainable params: 3,840\n",
      "_________________________________________________________________\n"
     ]
    }
   ],
   "source": [
    "obtener_generador().summary()"
   ]
  },
  {
   "cell_type": "code",
   "execution_count": null,
   "metadata": {},
   "outputs": [],
   "source": []
  },
  {
   "cell_type": "code",
   "execution_count": 5,
   "metadata": {},
   "outputs": [],
   "source": [
    "def obtener_ruido(numero_muestra: int, dim_z: int) -> tf.random.normal:\n",
    "    ''' Genera vector aleatorios de dimension (numero_muestra, dim_z) '''\n",
    "    return tf.random.normal((numero_muestra, dim_z))"
   ]
  },
  {
   "cell_type": "code",
   "execution_count": 6,
   "metadata": {},
   "outputs": [
    {
     "data": {
      "text/plain": [
       "<tf.Tensor: shape=(2, 10), dtype=float32, numpy=\n",
       "array([[ 0.3329163 , -1.513184  , -0.17042692, -0.82294095,  0.92231166,\n",
       "        -0.00937828,  1.5929273 , -1.1269627 ,  0.20039932, -0.13571087],\n",
       "       [-0.17926964, -0.12734522, -0.63657004, -0.7991805 ,  0.82898897,\n",
       "         0.05738529,  0.91351885,  0.4058572 ,  0.6958022 , -1.1581689 ]],\n",
       "      dtype=float32)>"
      ]
     },
     "execution_count": 6,
     "metadata": {},
     "output_type": "execute_result"
    }
   ],
   "source": [
    "obtener_ruido(2, 10)"
   ]
  },
  {
   "cell_type": "code",
   "execution_count": null,
   "metadata": {},
   "outputs": [],
   "source": []
  },
  {
   "cell_type": "code",
   "execution_count": null,
   "metadata": {},
   "outputs": [],
   "source": []
  },
  {
   "cell_type": "code",
   "execution_count": 7,
   "metadata": {},
   "outputs": [],
   "source": [
    "def obtener_bloque_discriminador(dim_entrada: int, dim_salida: int) -> tf.keras.Model:\n",
    "    ''' Genera una capa lineal con normalización por bloques '''\n",
    "    entrada = tf.keras.Input(shape=dim_entrada)\n",
    "    capa_lineal = tf.keras.layers.Dense(units=dim_salida)(entrada)\n",
    "    salida_leaky_relu = tf.keras.layers.LeakyReLU(alpha=0.2)\n",
    "    return tf.keras.Model(inputs=entrada, outputs=salida_leaky_relu)\n",
    "\n",
    "def obtener_discriminador(dim_imagen: int = 784, dim_oculta: int = 128) -> tf.keras.Model:\n",
    "    ''' Generador de imágenes '''\n",
    "    entrada = tf.keras.Input(shape=dim_imagen)\n",
    "    salida_1 = obtener_bloque_generador(dim_entrada=dim_imagen, dim_salida=dim_oculta*4)(entrada)\n",
    "    salida_2 = obtener_bloque_generador(dim_entrada=dim_oculta*4, dim_salida=dim_oculta*2)(salida_1)\n",
    "    salida_3 = obtener_bloque_generador(dim_entrada=dim_oculta*2, dim_salida=dim_oculta)(salida_2)\n",
    "    salida_lineal = tf.keras.layers.Dense(units=1)(salida_3)\n",
    "    return tf.keras.Model(inputs=entrada, outputs=salida_lineal)"
   ]
  },
  {
   "cell_type": "code",
   "execution_count": 8,
   "metadata": {},
   "outputs": [
    {
     "name": "stdout",
     "output_type": "stream",
     "text": [
      "Model: \"model_8\"\n",
      "_________________________________________________________________\n",
      "Layer (type)                 Output Shape              Param #   \n",
      "=================================================================\n",
      "input_6 (InputLayer)         [(None, 784)]             0         \n",
      "_________________________________________________________________\n",
      "model_5 (Functional)         (None, 512)               403968    \n",
      "_________________________________________________________________\n",
      "model_6 (Functional)         (None, 256)               132352    \n",
      "_________________________________________________________________\n",
      "model_7 (Functional)         (None, 128)               33408     \n",
      "_________________________________________________________________\n",
      "dense_8 (Dense)              (None, 1)                 129       \n",
      "=================================================================\n",
      "Total params: 569,857\n",
      "Trainable params: 568,065\n",
      "Non-trainable params: 1,792\n",
      "_________________________________________________________________\n"
     ]
    }
   ],
   "source": [
    "obtener_discriminador().summary()"
   ]
  },
  {
   "cell_type": "code",
   "execution_count": null,
   "metadata": {},
   "outputs": [],
   "source": []
  },
  {
   "cell_type": "code",
   "execution_count": 9,
   "metadata": {},
   "outputs": [],
   "source": [
    "def obtener_perdida_discriminador(generador: tf.keras.Model, discriminador: tf.keras.Model, imagenes_real, num_imagenes, dim_z):\n",
    "    ''' Obtiene perdida del discriminador '''\n",
    "    rudio = obtener_ruido(numero_muestra=num_imagenes, dim_z=dim_z)\n",
    "    imagenes_falsa = generador(rudio)\n",
    "    prediccion_falsa = discriminador(tf.stop_gradient(imagenes_falsa))\n",
    "    target_falsa = tf.zeros_like(prediccion_falsa)\n",
    "    perdida_falsa = tf.reduce_mean(tf.nn.sigmoid_cross_entropy_with_logits(labels=target_falsa, logits=prediccion_falsa))\n",
    "    \n",
    "    prediccion_real = discriminador(imagenes_real)\n",
    "    target_real = tf.ones_like(prediccion_real)\n",
    "    perdida_real = tf.reduce_mean(tf.nn.sigmoid_cross_entropy_with_logits(labels=target_real, logits=prediccion_real))\n",
    "\n",
    "    perdida_discriminador = (perdida_falsa + perdida_real) / 2\n",
    "    return perdida_discriminador"
   ]
  },
  {
   "cell_type": "code",
   "execution_count": null,
   "metadata": {},
   "outputs": [],
   "source": []
  },
  {
   "cell_type": "code",
   "execution_count": 10,
   "metadata": {},
   "outputs": [],
   "source": [
    "def obtener_perdida_generador(generador, discriminador, num_imagenes, dim_z):\n",
    "    rudio = obtener_ruido(numero_muestra=num_imagenes, dim_z=dim_z)\n",
    "    imagenes_falsa = generador(rudio)\n",
    "    prediccion_falsa = discriminador(imagenes_falsa)\n",
    "    target_falsa = tf.ones_like(prediccion_falsa)\n",
    "    perdida_generador = tf.reduce_mean(tf.nn.sigmoid_cross_entropy_with_logits(labels=target_falsa, logits=prediccion_falsa))\n",
    "    return perdida_generador"
   ]
  },
  {
   "cell_type": "code",
   "execution_count": null,
   "metadata": {},
   "outputs": [],
   "source": []
  },
  {
   "cell_type": "code",
   "execution_count": 11,
   "metadata": {},
   "outputs": [],
   "source": [
    "def obtener_mnist_data(batch_size=128):\n",
    "    (mnist_x_train, mnist_y_train), (mnist_x_test, mnist_y_test) = tf.keras.datasets.mnist.load_data()\n",
    "    mnist_x_train = mnist_x_train.reshape(-1, 784)\n",
    "    mnist_x_test = mnist_x_test.reshape(-1, 784)\n",
    "    mnist_data = np.concatenate((mnist_x_train, mnist_x_test), axis=0)\n",
    "    mnist_target = np.concatenate((mnist_y_train, mnist_y_test), axis=0)\n",
    "    dataset = tf.data.Dataset.from_tensor_slices((mnist_data, mnist_target))\n",
    "    dataset = dataset.shuffle(len(mnist_data)).batch(batch_size)\n",
    "    return dataset"
   ]
  },
  {
   "cell_type": "code",
   "execution_count": 12,
   "metadata": {},
   "outputs": [],
   "source": [
    "dataset = obtener_mnist_data(1024)"
   ]
  },
  {
   "cell_type": "code",
   "execution_count": null,
   "metadata": {},
   "outputs": [],
   "source": []
  },
  {
   "cell_type": "code",
   "execution_count": 13,
   "metadata": {},
   "outputs": [],
   "source": [
    "generador = obtener_generador(dim_z=64)\n",
    "generador_optimizador = tf.keras.optimizers.Adam(learning_rate=0.0001)\n",
    "\n",
    "discriminador = obtener_discriminador()\n",
    "discriminador_optimizador = tf.keras.optimizers.Adam(learning_rate=0.0001)"
   ]
  },
  {
   "cell_type": "code",
   "execution_count": null,
   "metadata": {},
   "outputs": [],
   "source": []
  },
  {
   "cell_type": "code",
   "execution_count": 14,
   "metadata": {},
   "outputs": [],
   "source": [
    "dim_z = 64\n",
    "n_epochs = 200"
   ]
  },
  {
   "cell_type": "code",
   "execution_count": 44,
   "metadata": {},
   "outputs": [
    {
     "name": "stderr",
     "output_type": "stream",
     "text": [
      "100%|████████████████████████████████████████████████████████████████████████████████| 547/547 [01:30<00:00,  6.06it/s]\n"
     ]
    },
    {
     "name": "stdout",
     "output_type": "stream",
     "text": [
      "tf.Tensor(0.21673478, shape=(), dtype=float32)\n",
      "tf.Tensor(10.335106, shape=(), dtype=float32)\n",
      "tf.Tensor(\n",
      "[ 0.00000000e+00  0.00000000e+00  0.00000000e+00  1.50899598e-10\n",
      "  0.00000000e+00  0.00000000e+00 -4.79209381e-11  0.00000000e+00\n",
      " -5.26969232e-11  0.00000000e+00  0.00000000e+00 -1.47809126e-10\n",
      "  0.00000000e+00 -8.36836416e-12  0.00000000e+00 -1.88034727e-11\n",
      "  0.00000000e+00 -3.19913575e-11 -1.30453270e-11  0.00000000e+00\n",
      " -1.51914644e-11  8.01167674e-11 -4.27236614e-11 -3.70832080e-11\n",
      " -8.90292614e-12  0.00000000e+00  6.95891608e-11  0.00000000e+00\n",
      " -5.04849981e-11  0.00000000e+00  3.53706960e-11  0.00000000e+00\n",
      "  0.00000000e+00  0.00000000e+00 -2.64737156e-11 -3.36885138e-11\n",
      "  1.31023326e-11  4.40478418e-11 -6.65239088e-12  6.22191951e-11\n",
      "  0.00000000e+00  5.40850593e-11 -7.06256668e-12 -1.17029622e-10\n",
      " -2.10243507e-11 -2.15213992e-11 -3.43059019e-11 -2.57696364e-11\n",
      "  0.00000000e+00  0.00000000e+00  1.38032814e-11  0.00000000e+00\n",
      "  0.00000000e+00  0.00000000e+00  4.71448922e-11  0.00000000e+00\n",
      "  0.00000000e+00  0.00000000e+00  0.00000000e+00  1.13116168e-15\n",
      "  0.00000000e+00  5.56842558e-11  0.00000000e+00  0.00000000e+00\n",
      "  3.22914937e-12  0.00000000e+00  0.00000000e+00 -1.39768808e-10\n",
      "  8.65888472e-11 -8.53827911e-11 -4.27108210e-11  0.00000000e+00\n",
      "  0.00000000e+00 -4.03973556e-12  0.00000000e+00  0.00000000e+00\n",
      " -5.07703497e-11 -1.18374538e-12  0.00000000e+00  0.00000000e+00\n",
      "  0.00000000e+00  0.00000000e+00  0.00000000e+00  0.00000000e+00\n",
      "  1.55400512e-10 -4.83162052e-11  0.00000000e+00  0.00000000e+00\n",
      "  0.00000000e+00 -1.08497464e-11  0.00000000e+00  0.00000000e+00\n",
      "  2.68830080e-11  0.00000000e+00 -4.98186301e-12  0.00000000e+00\n",
      "  0.00000000e+00  6.93834296e-11 -2.73827471e-11  1.86776358e-11\n",
      " -9.61456748e-11  0.00000000e+00  0.00000000e+00  0.00000000e+00\n",
      "  3.60178823e-15  0.00000000e+00  0.00000000e+00  2.59101399e-12\n",
      "  2.36536710e-11 -8.63703206e-11  0.00000000e+00  0.00000000e+00\n",
      "  0.00000000e+00  0.00000000e+00 -8.39518385e-12  7.38368880e-11\n",
      " -1.21457830e-10  0.00000000e+00  0.00000000e+00 -1.00958799e-11\n",
      "  8.39665629e-11 -2.14391942e-11  0.00000000e+00  0.00000000e+00\n",
      "  1.97311490e-11 -1.05141632e-10  1.95924145e-11 -6.93670052e-11\n",
      " -7.03014816e-12  0.00000000e+00  6.71220501e-12  0.00000000e+00\n",
      "  2.00858271e-11  0.00000000e+00 -6.30504676e-11 -6.46846535e-11\n",
      "  2.85000929e-11  0.00000000e+00 -4.17563310e-11  8.22423553e-12\n",
      " -9.41366343e-13  2.27746771e-12  3.61212761e-11 -6.51692589e-11\n",
      "  0.00000000e+00  0.00000000e+00  1.85154756e-11  0.00000000e+00\n",
      "  3.24406084e-12  0.00000000e+00  3.64389109e-11  8.15314552e-11\n",
      " -8.72379322e-11  2.54822413e-11  1.50722823e-10  0.00000000e+00\n",
      "  2.97194803e-11 -2.49995441e-11  0.00000000e+00  0.00000000e+00\n",
      " -1.45070154e-12 -5.35632649e-11 -1.36220743e-10  0.00000000e+00\n",
      "  0.00000000e+00 -9.55164697e-11 -2.54846040e-11  0.00000000e+00\n",
      " -4.98908172e-11 -6.64421990e-11 -4.96301125e-11  0.00000000e+00\n",
      "  0.00000000e+00  7.93000526e-11  0.00000000e+00  2.34284640e-11\n",
      "  0.00000000e+00 -1.75692759e-11  5.43860443e-11  1.39199667e-11\n",
      "  0.00000000e+00  7.78200837e-11  2.79159317e-11 -5.61336672e-11\n",
      " -2.15285584e-11 -1.16232683e-10 -9.38437609e-12  0.00000000e+00\n",
      "  0.00000000e+00 -1.27126518e-10  0.00000000e+00 -7.10684844e-11\n",
      "  0.00000000e+00  1.37908449e-10  0.00000000e+00  1.44140021e-11\n",
      " -8.00494913e-12  0.00000000e+00  0.00000000e+00 -1.52491561e-11\n",
      "  0.00000000e+00  0.00000000e+00  0.00000000e+00  0.00000000e+00\n",
      "  0.00000000e+00  0.00000000e+00  3.66344038e-11 -4.28769832e-11\n",
      "  7.81292531e-11 -1.11325402e-12  3.04553362e-11  7.20281777e-12\n",
      " -6.96892821e-11  0.00000000e+00  0.00000000e+00 -9.30617250e-11\n",
      " -5.45468046e-11 -1.39356401e-10 -4.41435950e-12  0.00000000e+00\n",
      "  3.46808693e-11 -4.41633848e-11  6.30615629e-11  0.00000000e+00\n",
      "  0.00000000e+00  2.23509787e-11  0.00000000e+00  0.00000000e+00\n",
      "  0.00000000e+00  0.00000000e+00  1.25212160e-10  3.99176421e-11\n",
      "  0.00000000e+00  0.00000000e+00  5.40204478e-11  0.00000000e+00\n",
      "  0.00000000e+00  0.00000000e+00  0.00000000e+00 -6.31503044e-11\n",
      "  0.00000000e+00  0.00000000e+00  1.29250968e-11  0.00000000e+00\n",
      " -8.70200370e-11  0.00000000e+00  8.14749934e-11  0.00000000e+00\n",
      " -5.47558214e-11  0.00000000e+00 -7.87167484e-11 -2.72562754e-11\n",
      " -7.49494477e-12  0.00000000e+00 -4.49121400e-11 -3.95245885e-11\n",
      "  0.00000000e+00  6.68714598e-11 -1.77924106e-10  0.00000000e+00\n",
      " -8.87208709e-11  0.00000000e+00 -7.75929460e-11 -2.37586374e-11\n",
      "  0.00000000e+00 -5.70328680e-12  0.00000000e+00  1.18990470e-10\n",
      " -6.08074788e-12  0.00000000e+00 -8.27273736e-11  0.00000000e+00\n",
      "  6.73423643e-12  0.00000000e+00  0.00000000e+00  1.44515747e-10\n",
      " -6.92827393e-11 -8.30400887e-11  0.00000000e+00  2.00850903e-12\n",
      "  0.00000000e+00  2.52841047e-11  0.00000000e+00 -5.40593091e-11\n",
      "  0.00000000e+00 -2.79621309e-11  0.00000000e+00  0.00000000e+00\n",
      " -2.57895701e-11  0.00000000e+00  0.00000000e+00  2.66709116e-12\n",
      " -6.25108992e-11  0.00000000e+00  7.27996691e-11  0.00000000e+00\n",
      "  6.73281136e-12  0.00000000e+00  0.00000000e+00  0.00000000e+00\n",
      "  5.16287950e-11 -4.34544553e-11  0.00000000e+00  0.00000000e+00\n",
      "  0.00000000e+00  3.11943422e-11  0.00000000e+00  0.00000000e+00\n",
      "  6.03814290e-11  0.00000000e+00  6.45249340e-11  7.47285567e-11\n",
      "  0.00000000e+00  0.00000000e+00 -2.79105315e-11  3.37205680e-11\n",
      "  3.20650659e-11  0.00000000e+00  5.31480450e-11 -3.46026575e-11\n",
      " -7.98765828e-12 -8.89586946e-11  5.65476103e-11  5.77300534e-11\n",
      " -5.80111827e-11 -1.11667182e-10 -2.81026018e-11  1.33434944e-10\n",
      "  0.00000000e+00  0.00000000e+00  0.00000000e+00  0.00000000e+00\n",
      "  4.89899891e-11  0.00000000e+00  0.00000000e+00  0.00000000e+00\n",
      " -1.11725830e-10  2.40089199e-12  0.00000000e+00 -4.79258612e-11\n",
      "  6.96973729e-11 -3.86646375e-11 -5.91321853e-11  0.00000000e+00\n",
      "  2.42348537e-11  1.05524478e-11  0.00000000e+00  0.00000000e+00\n",
      " -1.01214905e-10  0.00000000e+00 -8.56335350e-11 -1.07218462e-11\n",
      " -2.15427572e-11  1.13676499e-11  0.00000000e+00  0.00000000e+00\n",
      "  4.17305045e-11 -9.00625061e-11  1.36024898e-11  0.00000000e+00\n",
      "  2.52288173e-11  0.00000000e+00  0.00000000e+00  4.34555864e-12\n",
      "  0.00000000e+00  0.00000000e+00  1.20606285e-11  8.60686383e-11\n",
      " -3.43245536e-11  4.65292804e-11  6.10864553e-11  5.13674589e-11\n",
      "  1.07418484e-10  0.00000000e+00 -1.76977835e-10  0.00000000e+00\n",
      "  0.00000000e+00  0.00000000e+00  0.00000000e+00  8.63981942e-11\n",
      "  0.00000000e+00  0.00000000e+00  6.99222000e-11  6.82600374e-12\n",
      "  0.00000000e+00  6.31906055e-11  0.00000000e+00  4.94427312e-11\n",
      "  0.00000000e+00  9.13474504e-11  0.00000000e+00  0.00000000e+00\n",
      "  0.00000000e+00  1.48645624e-10 -9.06705822e-11  0.00000000e+00\n",
      "  0.00000000e+00 -3.56436300e-12  0.00000000e+00  0.00000000e+00\n",
      "  0.00000000e+00 -3.75198345e-11  0.00000000e+00  0.00000000e+00\n",
      "  0.00000000e+00  0.00000000e+00  0.00000000e+00  0.00000000e+00\n",
      "  1.41916305e-11  0.00000000e+00 -1.29258201e-11  5.97719305e-11\n",
      " -5.82796728e-11 -6.18829432e-11  0.00000000e+00  5.48264004e-11\n",
      " -8.00658082e-11 -4.20263546e-11 -2.57277463e-11  4.61874497e-11\n",
      " -2.32428417e-11  0.00000000e+00  0.00000000e+00  0.00000000e+00\n",
      "  0.00000000e+00  0.00000000e+00  0.00000000e+00  0.00000000e+00\n",
      "  8.95743636e-12  0.00000000e+00  0.00000000e+00  0.00000000e+00\n",
      "  4.87658282e-11 -7.11073214e-12 -1.30780650e-10  0.00000000e+00\n",
      "  0.00000000e+00  0.00000000e+00  7.96720120e-11  0.00000000e+00\n",
      "  0.00000000e+00  2.27125367e-11  0.00000000e+00 -1.50373394e-11\n",
      "  1.56021251e-10  0.00000000e+00  0.00000000e+00  0.00000000e+00\n",
      " -2.17205837e-11  2.70140819e-11  0.00000000e+00  0.00000000e+00\n",
      "  0.00000000e+00 -7.36329140e-12  0.00000000e+00 -8.79326195e-11\n",
      "  0.00000000e+00 -2.52030393e-11 -1.26580274e-10  0.00000000e+00\n",
      "  0.00000000e+00 -4.70859116e-11  0.00000000e+00 -2.85209755e-11\n",
      " -5.14546808e-11  0.00000000e+00  5.18154061e-11  0.00000000e+00\n",
      "  0.00000000e+00 -3.41134065e-11 -5.64511805e-12  0.00000000e+00\n",
      "  0.00000000e+00 -2.85073822e-11  0.00000000e+00  0.00000000e+00\n",
      " -1.42741617e-11  0.00000000e+00 -1.26315000e-11 -2.34059438e-11\n",
      "  4.85352834e-11  0.00000000e+00 -5.09750159e-11 -4.21452977e-11\n",
      "  0.00000000e+00  0.00000000e+00  0.00000000e+00  5.05601255e-11\n",
      "  0.00000000e+00 -2.99418788e-11  0.00000000e+00 -4.43174455e-11\n",
      "  4.38107155e-11  0.00000000e+00  5.10090060e-11 -4.02632129e-11\n",
      "  0.00000000e+00 -8.18877466e-11 -1.86848453e-11  6.52261023e-11\n",
      "  0.00000000e+00  0.00000000e+00 -5.76235275e-11  2.45417072e-11\n",
      "  0.00000000e+00  0.00000000e+00  7.10894815e-11  3.95848979e-11\n",
      " -9.08470660e-11 -3.63997860e-11  3.39996538e-11  0.00000000e+00], shape=(512,), dtype=float32)\n"
     ]
    },
    {
     "data": {
      "image/png": "[encoded data removed]",
      "text/plain": [
       "<Figure size 432x288 with 25 Axes>"
      ]
     },
     "metadata": {
      "needs_background": "light"
     },
     "output_type": "display_data"
    },
    {
     "data": {
      "image/png": "[encoded data removed]",
      "text/plain": [
       "<Figure size 432x288 with 25 Axes>"
      ]
     },
     "metadata": {
      "needs_background": "light"
     },
     "output_type": "display_data"
    },
    {
     "name": "stderr",
     "output_type": "stream",
     "text": [
      "100%|████████████████████████████████████████████████████████████████████████████████| 547/547 [00:52<00:00, 10.42it/s]\n"
     ]
    },
    {
     "name": "stdout",
     "output_type": "stream",
     "text": [
      "tf.Tensor(0.39315656, shape=(), dtype=float32)\n",
      "tf.Tensor(21.426962, shape=(), dtype=float32)\n",
      "tf.Tensor(\n",
      "[ 0.00000000e+00  0.00000000e+00  0.00000000e+00  7.25493762e-11\n",
      "  1.45844337e-10 -5.78418875e-11 -9.91069102e-11  0.00000000e+00\n",
      " -1.43034213e-11  0.00000000e+00  0.00000000e+00 -1.61119479e-10\n",
      "  0.00000000e+00 -5.96656405e-12  0.00000000e+00 -9.83492524e-11\n",
      "  0.00000000e+00 -2.97859896e-11 -3.59553637e-11  0.00000000e+00\n",
      " -2.84771998e-11  7.01541394e-11  8.69568133e-12 -7.63716937e-11\n",
      " -9.68818706e-11  0.00000000e+00  3.60379174e-12 -5.04587899e-11\n",
      "  0.00000000e+00  0.00000000e+00  6.90888249e-11  0.00000000e+00\n",
      "  7.72723344e-11  0.00000000e+00 -3.30872690e-11  4.66050913e-11\n",
      "  3.24500461e-11 -4.49643864e-11 -5.54900258e-11  7.17530505e-12\n",
      "  0.00000000e+00 -1.12945807e-11 -1.42718309e-10 -1.27828637e-10\n",
      " -8.93173122e-13  0.00000000e+00 -2.21986023e-11 -6.34887490e-11\n",
      "  0.00000000e+00  0.00000000e+00 -2.40025336e-15  0.00000000e+00\n",
      " -2.98103348e-11  0.00000000e+00 -1.14581331e-11  0.00000000e+00\n",
      "  0.00000000e+00  0.00000000e+00  0.00000000e+00  8.21384766e-11\n",
      "  0.00000000e+00  0.00000000e+00  0.00000000e+00  0.00000000e+00\n",
      "  5.14089535e-11  0.00000000e+00  0.00000000e+00 -1.54564278e-10\n",
      "  0.00000000e+00 -1.24245669e-10 -1.15019105e-10  2.30900941e-11\n",
      "  1.25812916e-10 -1.00900859e-11  1.20808068e-11  0.00000000e+00\n",
      "  0.00000000e+00 -2.89958682e-11  0.00000000e+00  0.00000000e+00\n",
      " -7.28360688e-12  0.00000000e+00  0.00000000e+00  8.32182379e-11\n",
      "  1.69391667e-10  1.88796548e-12  0.00000000e+00  1.14890777e-10\n",
      "  3.89354660e-11 -9.21576444e-12  0.00000000e+00  0.00000000e+00\n",
      "  8.18340968e-12  0.00000000e+00 -1.11255614e-11  0.00000000e+00\n",
      "  0.00000000e+00  6.01187225e-11  1.21583178e-11  6.27096500e-11\n",
      " -5.22773179e-11  0.00000000e+00  0.00000000e+00  0.00000000e+00\n",
      "  0.00000000e+00  0.00000000e+00  0.00000000e+00  0.00000000e+00\n",
      " -3.98721126e-11 -7.06095182e-11  0.00000000e+00  0.00000000e+00\n",
      "  0.00000000e+00  1.16438734e-10 -1.18770081e-11  4.29163753e-11\n",
      " -9.36346278e-11  0.00000000e+00  6.59906227e-11  6.68286051e-11\n",
      " -3.54681944e-11 -6.39608089e-11  0.00000000e+00  0.00000000e+00\n",
      " -9.21254132e-12 -2.41512949e-10  7.50662310e-11 -1.07677658e-10\n",
      " -3.83163848e-11 -4.83805600e-11 -2.46384683e-11 -2.10086219e-11\n",
      " -1.31224250e-11  0.00000000e+00 -9.27717694e-11  7.52334046e-12\n",
      "  3.71877182e-11 -7.34164257e-11 -3.67361142e-11  0.00000000e+00\n",
      " -3.86607031e-11 -7.36189651e-11  0.00000000e+00 -2.33168120e-11\n",
      "  0.00000000e+00  0.00000000e+00 -1.29645236e-11  0.00000000e+00\n",
      " -5.39964080e-11  0.00000000e+00  4.85818330e-11  8.42834483e-11\n",
      " -5.89315749e-11 -2.07790746e-11  1.61936589e-10  0.00000000e+00\n",
      "  0.00000000e+00 -7.44979287e-11  0.00000000e+00  0.00000000e+00\n",
      " -2.94508029e-11  0.00000000e+00 -2.35231168e-10 -9.58033045e-12\n",
      "  0.00000000e+00  0.00000000e+00 -2.56692705e-11  0.00000000e+00\n",
      " -1.28577093e-10  0.00000000e+00 -8.26280450e-12  0.00000000e+00\n",
      " -2.68899642e-11  9.34873984e-11 -1.63025132e-11  1.08260371e-11\n",
      "  0.00000000e+00  3.21025879e-11 -7.60352371e-12  0.00000000e+00\n",
      "  0.00000000e+00  2.95813894e-11  9.10743703e-11 -8.43003445e-11\n",
      "  3.52088914e-11 -5.96652033e-11  1.30571240e-11  0.00000000e+00\n",
      "  0.00000000e+00 -3.34811137e-11  0.00000000e+00  1.11689330e-11\n",
      "  0.00000000e+00  6.08064640e-11  0.00000000e+00  0.00000000e+00\n",
      " -4.66432309e-11  0.00000000e+00  1.11875613e-10  0.00000000e+00\n",
      "  6.57754962e-11  0.00000000e+00  0.00000000e+00  5.21651125e-11\n",
      "  0.00000000e+00  9.31478436e-11  0.00000000e+00  0.00000000e+00\n",
      "  1.43523915e-10  1.32922163e-11  9.01792876e-12  0.00000000e+00\n",
      " -5.90431315e-11  0.00000000e+00  0.00000000e+00 -1.46462245e-10\n",
      "  5.84439051e-12 -1.45639834e-10  2.71368535e-11  0.00000000e+00\n",
      "  8.71804712e-11 -3.24597016e-11  0.00000000e+00  0.00000000e+00\n",
      "  0.00000000e+00  0.00000000e+00  0.00000000e+00  0.00000000e+00\n",
      "  0.00000000e+00  0.00000000e+00  1.57468094e-10  8.92263069e-11\n",
      "  0.00000000e+00  0.00000000e+00  0.00000000e+00  0.00000000e+00\n",
      " -3.54525853e-11  8.37354144e-12  8.42093157e-16  0.00000000e+00\n",
      "  0.00000000e+00  0.00000000e+00  1.02020913e-10  0.00000000e+00\n",
      " -5.68820234e-11  3.54127838e-11  0.00000000e+00  7.50679727e-11\n",
      " -6.77426171e-11  1.61564873e-10  0.00000000e+00 -1.23686122e-11\n",
      " -4.10717207e-12  0.00000000e+00  2.19336389e-11 -1.17081636e-10\n",
      "  0.00000000e+00  1.75387812e-11 -1.35523523e-10 -5.95772130e-12\n",
      " -1.00893002e-10  0.00000000e+00 -9.82134252e-12 -2.32070318e-11\n",
      "  1.69844527e-10  6.80310877e-11 -3.66117449e-11  5.67391932e-11\n",
      "  0.00000000e+00  0.00000000e+00 -1.43594220e-10  0.00000000e+00\n",
      "  2.55604184e-11  0.00000000e+00  0.00000000e+00  9.31016930e-11\n",
      " -5.15307415e-11 -1.17211171e-10  0.00000000e+00 -1.00449085e-11\n",
      "  5.34086317e-11 -1.32056536e-11  0.00000000e+00  0.00000000e+00\n",
      "  9.56135310e-11  0.00000000e+00  0.00000000e+00 -2.73945797e-12\n",
      "  0.00000000e+00  5.44075722e-11  0.00000000e+00  3.74570860e-11\n",
      " -6.65601810e-11  0.00000000e+00  5.45036689e-11  0.00000000e+00\n",
      " -2.59918181e-11  0.00000000e+00  0.00000000e+00  0.00000000e+00\n",
      "  1.02845142e-10 -5.42196496e-11  1.31922070e-10  1.41609197e-10\n",
      "  0.00000000e+00 -1.58467770e-11  0.00000000e+00  0.00000000e+00\n",
      "  0.00000000e+00  0.00000000e+00  3.12284469e-11  0.00000000e+00\n",
      "  2.45260149e-11 -6.71401545e-11 -8.19770155e-11 -3.32723224e-11\n",
      "  4.32559509e-11 -4.27682889e-11  2.27801163e-11  0.00000000e+00\n",
      " -8.85713863e-11 -1.73575765e-10  9.12141820e-11  0.00000000e+00\n",
      " -1.73197387e-10 -1.16227292e-10  2.54009556e-11  1.12260715e-10\n",
      "  0.00000000e+00  0.00000000e+00  0.00000000e+00  0.00000000e+00\n",
      "  1.43536225e-10 -4.53894700e-11  0.00000000e+00  0.00000000e+00\n",
      " -8.00775696e-11  4.11745256e-11  0.00000000e+00 -9.89796439e-11\n",
      "  2.82521680e-11 -1.77750054e-11  0.00000000e+00  0.00000000e+00\n",
      " -6.12336362e-11  0.00000000e+00  0.00000000e+00  0.00000000e+00\n",
      " -4.29580989e-11  0.00000000e+00 -8.63985203e-11  3.42998858e-11\n",
      "  1.25910246e-11 -1.38218464e-11  0.00000000e+00  2.64015719e-11\n",
      " -1.13698773e-11  3.30289442e-11 -9.53388965e-11  0.00000000e+00\n",
      "  4.04207640e-11  1.52466182e-11  0.00000000e+00  2.75711988e-11\n",
      "  0.00000000e+00  7.15675644e-11  0.00000000e+00  9.42734640e-11\n",
      " -2.54988790e-11  7.66442673e-11  0.00000000e+00  1.28953487e-10\n",
      " -2.35131203e-11  2.69378721e-11 -8.98809013e-11  0.00000000e+00\n",
      "  0.00000000e+00 -7.38687583e-11  0.00000000e+00  0.00000000e+00\n",
      "  0.00000000e+00  0.00000000e+00  1.72679190e-10  5.03141348e-11\n",
      "  9.17030687e-12  5.48886353e-11  0.00000000e+00 -3.54082562e-11\n",
      "  0.00000000e+00  8.60486057e-11  0.00000000e+00  0.00000000e+00\n",
      "  0.00000000e+00  7.76229706e-11  0.00000000e+00  0.00000000e+00\n",
      "  1.05298888e-10 -6.24676417e-13  0.00000000e+00  0.00000000e+00\n",
      "  0.00000000e+00 -5.65715495e-11 -6.82737131e-11  0.00000000e+00\n",
      "  0.00000000e+00  0.00000000e+00  6.02130845e-11  8.56922866e-11\n",
      "  0.00000000e+00  0.00000000e+00 -4.57956659e-11  9.40871062e-11\n",
      " -4.90187196e-11 -8.56287471e-11  4.82838734e-11  6.28551308e-11\n",
      " -6.36249803e-11 -4.96496143e-11 -6.62375432e-11 -6.78874101e-12\n",
      " -5.95640828e-11  0.00000000e+00  0.00000000e+00  0.00000000e+00\n",
      " -1.44445697e-11  0.00000000e+00  7.91942970e-11 -7.67177918e-11\n",
      "  4.45097084e-11 -3.19610657e-11  0.00000000e+00  0.00000000e+00\n",
      "  0.00000000e+00  3.08634403e-11 -1.29724828e-10  0.00000000e+00\n",
      "  0.00000000e+00  0.00000000e+00  5.24951367e-11  5.65370528e-11\n",
      "  0.00000000e+00 -1.36907638e-11  0.00000000e+00  0.00000000e+00\n",
      "  1.56025970e-10  3.35297692e-11  8.11556100e-11  3.19775074e-11\n",
      " -4.45716346e-11 -3.95917396e-11 -2.36012546e-11  0.00000000e+00\n",
      "  0.00000000e+00 -7.23679450e-11  0.00000000e+00 -1.73401904e-10\n",
      "  0.00000000e+00 -9.31945840e-12 -1.07452720e-10 -1.21512444e-11\n",
      "  4.17422069e-11  0.00000000e+00 -1.52658511e-11  0.00000000e+00\n",
      " -1.02408401e-10  0.00000000e+00  1.16929993e-10  0.00000000e+00\n",
      "  0.00000000e+00 -3.64797862e-12  5.70898840e-12  0.00000000e+00\n",
      "  0.00000000e+00 -4.43079011e-11  0.00000000e+00  0.00000000e+00\n",
      "  3.91994597e-11  8.89986487e-11  2.74969700e-11  7.90066276e-11\n",
      "  0.00000000e+00  0.00000000e+00 -1.55866639e-11 -1.01295437e-10\n",
      "  0.00000000e+00  0.00000000e+00  0.00000000e+00  6.64160324e-11\n",
      "  0.00000000e+00 -5.95746300e-11  0.00000000e+00  4.02780760e-11\n",
      " -2.33706197e-11  0.00000000e+00  7.86776130e-11 -9.36144495e-11\n",
      "  5.25988558e-11 -5.40648290e-11 -6.07986647e-11  9.34493195e-12\n",
      "  0.00000000e+00  0.00000000e+00 -7.24234700e-11  0.00000000e+00\n",
      "  0.00000000e+00 -8.34679964e-11  1.11142026e-10  0.00000000e+00\n",
      " -1.09098043e-10  0.00000000e+00  2.27072614e-11  1.61644916e-11], shape=(512,), dtype=float32)\n"
     ]
    },
    {
     "data": {
      "image/png": "[encoded data removed]",
      "text/plain": [
       "<Figure size 432x288 with 25 Axes>"
      ]
     },
     "metadata": {
      "needs_background": "light"
     },
     "output_type": "display_data"
    },
    {
     "data": {
      "image/png": "[encoded data removed]",
      "text/plain": [
       "<Figure size 432x288 with 25 Axes>"
      ]
     },
     "metadata": {
      "needs_background": "light"
     },
     "output_type": "display_data"
    }
   ],
   "source": [
    "paso_actual = 0\n",
    "media_perdida_generador = 0\n",
    "media_perdida_discriminador = 0\n",
    "\n",
    "for epoch in range(n_epochs):\n",
    "    \n",
    "#     for real, _ in dataset:\n",
    "    for real, _ in tqdm.tqdm(dataset):\n",
    "        actual_tamanho_batch = len(real)\n",
    "        \n",
    "        with tf.GradientTape() as tape:\n",
    "            perdida_discriminador = obtener_perdida_discriminador(generador, discriminador, real, actual_tamanho_batch, dim_z)\n",
    "            gradiente_discriminador = tape.gradient(perdida_discriminador, discriminador.trainable_variables)\n",
    "            discriminador_optimizador.apply_gradients(zip(gradiente_discriminador, discriminador.trainable_variables))\n",
    "        \n",
    "        media_perdida_discriminador += perdida_discriminador / actual_tamanho_batch\n",
    "            \n",
    "        with tf.GradientTape() as tape:\n",
    "            perdida_generador = obtener_perdida_generador(generador, discriminador, actual_tamanho_batch, dim_z)\n",
    "            gradiente_generador = tape.gradient(perdida_generador, generador.trainable_variables)\n",
    "            generador_optimizador.apply_gradients(zip(gradiente_generador, generador.trainable_variables))\n",
    "        \n",
    "        media_perdida_generador += perdida_generador / actual_tamanho_batch\n",
    "    \n",
    "    print(media_perdida_discriminador)\n",
    "    print(media_perdida_generador)\n",
    "    \n",
    "#     print(gradiente_discriminador[0][0])\n",
    "    \n",
    "    mostrar_imagenes(generador(obtener_ruido(actual_tamanho_batch, dim_z)).numpy(), num_images=25, size=(28, 28))\n",
    "    mostrar_imagenes(real.numpy(), num_images=25, size=(28, 28))"
   ]
  },
  {
   "cell_type": "code",
   "execution_count": null,
   "metadata": {},
   "outputs": [],
   "source": []
  }
 ],
 "metadata": {
  "kernelspec": {
   "display_name": "Python 3",
   "language": "python",
   "name": "python3"
  },
  "language_info": {
   "codemirror_mode": {
    "name": "ipython",
    "version": 3
   },
   "file_extension": ".py",
   "mimetype": "text/x-python",
   "name": "python",
   "nbconvert_exporter": "python",
   "pygments_lexer": "ipython3",
   "version": "3.7.6"
  }
 },
 "nbformat": 4,
 "nbformat_minor": 5
}
