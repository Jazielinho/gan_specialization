{
 "cells": [
  {
   "cell_type": "code",
   "execution_count": 4,
   "id": "laden-monthly",
   "metadata": {},
   "outputs": [],
   "source": [
    "import tensorflow as tf\n",
    "import matplotlib.pyplot as plt"
   ]
  },
  {
   "cell_type": "code",
   "execution_count": 20,
   "id": "considerable-content",
   "metadata": {},
   "outputs": [],
   "source": [
    "class Generator(tf.keras.Model):\n",
    "    def __init__(self, z_dim=10, im_dim=784, hidden_dim=128):\n",
    "        super(Generator, self).__init__()\n",
    "        self.gen = tf.keras.Sequential([\n",
    "            Generator.get_generator_block(z_dim, hidden_dim),\n",
    "            Generator.get_generator_block(hidden_dim, hidden_dim * 2),\n",
    "            Generator.get_generator_block(hidden_dim * 2, hidden_dim * 4),\n",
    "            Generator.get_generator_block(hidden_dim * 4, hidden_dim * 8),\n",
    "            tf.keras.layers.Dense(im_dim)\n",
    "        ])\n",
    "        pass\n",
    "    \n",
    "    @staticmethod\n",
    "    def get_generator_block(input_dim, output_dim):\n",
    "        return tf.keras.Sequential([\n",
    "            tf.keras.Input(shape=(input_dim)),\n",
    "            tf.keras.layers.Dense(output_dim),\n",
    "            tf.keras.layers.BatchNormalization()\n",
    "        ])\n",
    "    \n",
    "    def call(noise):\n",
    "        return self.gen(noise)"
   ]
  },
  {
   "cell_type": "code",
   "execution_count": 21,
   "id": "superb-speed",
   "metadata": {},
   "outputs": [],
   "source": [
    "generador = Generator()"
   ]
  },
  {
   "cell_type": "code",
   "execution_count": 25,
   "id": "personal-laser",
   "metadata": {},
   "outputs": [],
   "source": [
    "generador.compile()"
   ]
  },
  {
   "cell_type": "code",
   "execution_count": 27,
   "id": "sustained-portland",
   "metadata": {},
   "outputs": [
    {
     "data": {
      "text/plain": [
       "<bound method Model.summary of <__main__.Generator object at 0x000002258E945F48>>"
      ]
     },
     "execution_count": 27,
     "metadata": {},
     "output_type": "execute_result"
    }
   ],
   "source": [
    "generador.summary"
   ]
  },
  {
   "cell_type": "code",
   "execution_count": null,
   "id": "illegal-southwest",
   "metadata": {},
   "outputs": [],
   "source": []
  }
 ],
 "metadata": {
  "kernelspec": {
   "display_name": "Python 3",
   "language": "python",
   "name": "python3"
  },
  "language_info": {
   "codemirror_mode": {
    "name": "ipython",
    "version": 3
   },
   "file_extension": ".py",
   "mimetype": "text/x-python",
   "name": "python",
   "nbconvert_exporter": "python",
   "pygments_lexer": "ipython3",
   "version": "3.7.7"
  }
 },
 "nbformat": 4,
 "nbformat_minor": 5
}
